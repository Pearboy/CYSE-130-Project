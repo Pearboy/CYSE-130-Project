{
 "cells": [
  {
   "cell_type": "code",
   "execution_count": 1,
   "metadata": {},
   "outputs": [
    {
     "name": "stdout",
     "output_type": "stream",
     "text": [
      "Summary report generated successfully!\n"
     ]
    }
   ],
   "source": [
    "# Function to read the log file\n",
    "def read_log_file(file_path):\n",
    "\n",
    "    # Read the log file\n",
    "    with open(file_path, 'r') as file:\n",
    "        logs = file.readlines()\n",
    "\n",
    "    # Filter out the suspicious logs\n",
    "    # Classify the logs into FAILED and ERROR\n",
    "    suspicious_logs = {\n",
    "        'FAILED': [],\n",
    "        'ERROR': []\n",
    "    }\n",
    "    for log in logs:\n",
    "        if 'failed' in log.lower():\n",
    "            suspicious_logs['FAILED'].append(log.lower())\n",
    "        elif 'error' in log.lower():\n",
    "            suspicious_logs['ERROR'].append(log.lower())\n",
    "\n",
    "    # Generate the summary report\n",
    "    # Logs the amount of each type of log and the logs for each type\n",
    "    with open('summary_report.txt', 'w') as f:\n",
    "        for type, logs in suspicious_logs.items():\n",
    "            f.write(f\"Total {type.upper()} logs found: {len(logs)}\\n\\n\")\n",
    "            for log in logs:\n",
    "                f.write(f\"{type.upper()} log: {log}\\n\")\n",
    "            f.write(\"\\n\")\n",
    "\n",
    "    # Print that the summary report has been generated\n",
    "    print(\"Summary report generated successfully!\")\n",
    "\n",
    "# The actual log file \n",
    "log_file_path = '/var/log/auth.log'\n",
    "read_log_file(log_file_path)"
   ]
  },
  {
   "cell_type": "code",
   "execution_count": 1,
   "metadata": {},
   "outputs": [
    {
     "name": "stdout",
     "output_type": "stream",
     "text": [
      "CPU Usage: 87.8%\n",
      "Memory Usage: 43.2%\n",
      "\n",
      "Performance log generated successfully!\n"
     ]
    }
   ],
   "source": [
    "import psutil\n",
    "\n",
    "# Get CPU usage\n",
    "cpu_usage = psutil.cpu_percent(interval=1)\n",
    "print(f\"CPU Usage: {cpu_usage}%\")\n",
    "\n",
    "# Get Memory usage\n",
    "memory_info = psutil.virtual_memory()\n",
    "print(f\"Memory Usage: {memory_info.percent}%\\n\")\n",
    "\n",
    "# Log the data to performance_log.txt file\n",
    "with open('performance_log.txt', 'a') as f:\n",
    "    f.write(f\"CPU: {cpu_usage}%, Memory: {memory_info.percent}%\\n\")\n",
    "\n",
    "# Print that the log was generated successfully\n",
    "print(\"Performance log generated successfully!\")\n",
    "\n",
    "# Check if CPU usage is above 90%\n",
    "# If yes, print an alert\n",
    "if cpu_usage > 90:\n",
    "    print(\"\\nALERT: High CPU usage detected!\")"
   ]
  },
  {
   "cell_type": "code",
   "execution_count": null,
   "metadata": {},
   "outputs": [
    {
     "name": "stdout",
     "output_type": "stream",
     "text": [
      "Alert email sent successfully!\n"
     ]
    }
   ],
   "source": [
    "import smtplib\n",
    "from email.message import EmailMessage\n",
    "\n",
    "# Function to send an alert email\n",
    "def send_alert(subject, body):\n",
    "    \n",
    "    # Set up the email message (body, subject, from, to) \n",
    "    msg = EmailMessage()\n",
    "    msg.set_content(body)\n",
    "    msg['Subject'] = subject\n",
    "    msg['From'] = 'aneeshganesh8@gmail.com'\n",
    "    msg['To'] = 'aneeshganesh8@gmail.com'\n",
    "\n",
    "    # Send the email\n",
    "    with smtplib.SMTP_SSL('smtp.gmail.com', 465) as smtp:\n",
    "        smtp.login('aneeshganesh8@gmail.com', 'bkdv bmeo bnjg omzp') # Login with email and app password\n",
    "        smtp.send_message(msg)\n",
    "\n",
    "# Send an alert when CPU usage is high\n",
    "if cpu_usage > 90:\n",
    "    send_alert('High CPU Usage Alert', f'ALERT: CPU usage is high at {cpu_usage}%. Also, memory usage is {memory_info.percent}%.')\n",
    "    print(\"Alert email sent successfully!\")\n"
   ]
  },
  {
   "cell_type": "code",
   "execution_count": 1,
   "metadata": {},
   "outputs": [
    {
     "name": "stdout",
     "output_type": "stream",
     "text": [
      "Starting Nmap 7.94SVN ( https://nmap.org ) at 2024-11-29 15:20 EST\n",
      "Nmap scan report for localhost (127.0.0.1)\n",
      "Host is up (0.000037s latency).\n",
      "Not shown: 995 closed tcp ports (reset)\n",
      "PORT     STATE SERVICE VERSION\n",
      "631/tcp  open  ipp     CUPS 2.4\n",
      "9000/tcp open  zmtp    ZeroMQ ZMTP 2.0\n",
      "9001/tcp open  zmtp    ZeroMQ ZMTP 2.0\n",
      "9002/tcp open  zmtp    ZeroMQ ZMTP 2.0\n",
      "9003/tcp open  zmtp    ZeroMQ ZMTP 2.0\n",
      "\n",
      "Service detection performed. Please report any incorrect results at https://nmap.org/submit/ .\n",
      "Nmap done: 1 IP address (1 host up) scanned in 8.14 seconds\n",
      "\n",
      "Source IP: 192.168.13.128, Destination IP: 93.184.215.201\n",
      "Source IP: 192.168.13.128, Destination IP: 152.199.4.33\n",
      "Source IP: 93.184.215.201, Destination IP: 192.168.13.128\n",
      "Source IP: 152.199.4.33, Destination IP: 192.168.13.128\n",
      "Source IP: 192.168.13.128, Destination IP: 185.125.188.59\n",
      "Source IP: 185.125.188.59, Destination IP: 192.168.13.128\n",
      "Source IP: 192.168.13.128, Destination IP: 93.184.215.201\n"
     ]
    },
    {
     "data": {
      "text/plain": [
       "<Sniffed: TCP:7 UDP:0 ICMP:0 Other:3>"
      ]
     },
     "execution_count": 1,
     "metadata": {},
     "output_type": "execute_result"
    }
   ],
   "source": [
    "import subprocess\n",
    "\n",
    "# Function to scan target with nmap\n",
    "def run_nmap(target):\n",
    "    result = subprocess.run(['nmap', '-sV', target], capture_output=True, text=True)\n",
    "    print(result.stdout)\n",
    "\n",
    "run_nmap('127.0.0.1')  # Scan localhost\n",
    "\n",
    "from scapy.all import TCP, IP, sniff\n",
    "\n",
    "# Function to monitor packets using scapy\n",
    "def monitor_packets(pkt):\n",
    "    if pkt.haslayer(TCP) and pkt.haslayer(IP):\n",
    "        print(f\"Source IP: {pkt[IP].src}, Destination IP: {pkt[IP].dst}\")\n",
    "\n",
    "sniff(prn=monitor_packets, count=10)  # Capture 10 packets\n",
    "\n"
   ]
  }
 ],
 "metadata": {
  "kernelspec": {
   "display_name": "Python 3",
   "language": "python",
   "name": "python3"
  },
  "language_info": {
   "codemirror_mode": {
    "name": "ipython",
    "version": 3
   },
   "file_extension": ".py",
   "mimetype": "text/x-python",
   "name": "python",
   "nbconvert_exporter": "python",
   "pygments_lexer": "ipython3",
   "version": "3.12.3"
  }
 },
 "nbformat": 4,
 "nbformat_minor": 2
}
